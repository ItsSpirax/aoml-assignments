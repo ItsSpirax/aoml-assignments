{
  "cells": [
    {
      "cell_type": "code",
      "execution_count": 42,
      "metadata": {
        "id": "mAeXZjmI5OQM"
      },
      "outputs": [],
      "source": [
        "import pandas as pd\n",
        "from sklearn.model_selection import train_test_split\n",
        "from sklearn.preprocessing import StandardScaler, OneHotEncoder\n",
        "from sklearn.neighbors import KNeighborsClassifier\n",
        "from sklearn.tree import DecisionTreeClassifier\n",
        "from sklearn.metrics import f1_score\n",
        "import joblib\n",
        "import warnings\n",
        "\n",
        "warnings.filterwarnings(\"ignore\")"
      ]
    },
    {
      "cell_type": "code",
      "execution_count": 43,
      "metadata": {
        "id": "q71AcCIT6Ivk"
      },
      "outputs": [],
      "source": [
        "df = pd.read_csv('https://github.com/plotly/datasets/raw/refs/heads/master/diabetes.csv')"
      ]
    },
    {
      "cell_type": "code",
      "execution_count": 44,
      "metadata": {
        "colab": {
          "base_uri": "https://localhost:8080/"
        },
        "id": "Xn_01I4H6eBs",
        "outputId": "a2a6d7c1-ac19-4bf9-8c03-ef5e68366dfd"
      },
      "outputs": [
        {
          "data": {
            "text/html": [
              "<div>\n",
              "<style scoped>\n",
              "    .dataframe tbody tr th:only-of-type {\n",
              "        vertical-align: middle;\n",
              "    }\n",
              "\n",
              "    .dataframe tbody tr th {\n",
              "        vertical-align: top;\n",
              "    }\n",
              "\n",
              "    .dataframe thead th {\n",
              "        text-align: right;\n",
              "    }\n",
              "</style>\n",
              "<table border=\"1\" class=\"dataframe\">\n",
              "  <thead>\n",
              "    <tr style=\"text-align: right;\">\n",
              "      <th></th>\n",
              "      <th>BMI</th>\n",
              "      <th>BMI_category</th>\n",
              "    </tr>\n",
              "  </thead>\n",
              "  <tbody>\n",
              "    <tr>\n",
              "      <th>0</th>\n",
              "      <td>33.6</td>\n",
              "      <td>Obese</td>\n",
              "    </tr>\n",
              "    <tr>\n",
              "      <th>1</th>\n",
              "      <td>26.6</td>\n",
              "      <td>Overweight</td>\n",
              "    </tr>\n",
              "    <tr>\n",
              "      <th>2</th>\n",
              "      <td>23.3</td>\n",
              "      <td>Normal</td>\n",
              "    </tr>\n",
              "    <tr>\n",
              "      <th>3</th>\n",
              "      <td>28.1</td>\n",
              "      <td>Overweight</td>\n",
              "    </tr>\n",
              "    <tr>\n",
              "      <th>4</th>\n",
              "      <td>43.1</td>\n",
              "      <td>Obese</td>\n",
              "    </tr>\n",
              "  </tbody>\n",
              "</table>\n",
              "</div>"
            ],
            "text/plain": [
              "    BMI BMI_category\n",
              "0  33.6        Obese\n",
              "1  26.6   Overweight\n",
              "2  23.3       Normal\n",
              "3  28.1   Overweight\n",
              "4  43.1        Obese"
            ]
          },
          "execution_count": 44,
          "metadata": {},
          "output_type": "execute_result"
        }
      ],
      "source": [
        "def bmi_category(bmi):\n",
        "    if bmi < 18.5:\n",
        "        return 'Underweight'\n",
        "    elif bmi < 24.9:\n",
        "        return 'Normal'\n",
        "    elif bmi < 29.9:\n",
        "        return 'Overweight'\n",
        "    else:\n",
        "        return 'Obese'\n",
        "\n",
        "df['BMI_category'] = df['BMI'].apply(bmi_category)\n",
        "df[['BMI', 'BMI_category']].head()\n"
      ]
    },
    {
      "cell_type": "code",
      "execution_count": 45,
      "metadata": {
        "colab": {
          "base_uri": "https://localhost:8080/"
        },
        "id": "kEbZx0TQ6eHf",
        "outputId": "f1f65724-9d55-4f9b-8887-1efa9ffa0e26"
      },
      "outputs": [],
      "source": [
        "train_df, val_df = train_test_split(df, test_size=0.2, random_state=42)"
      ]
    },
    {
      "cell_type": "code",
      "execution_count": 46,
      "metadata": {
        "colab": {
          "base_uri": "https://localhost:8080/"
        },
        "id": "UHZT2pXL7199",
        "outputId": "f1eecd10-0d11-4675-ee8a-59335ccf3afa"
      },
      "outputs": [
        {
          "name": "stdout",
          "output_type": "stream",
          "text": [
            "    Glucose  BloodPressure  SkinThickness   Insulin       BMI       Age  \\\n",
            "0 -1.151398      -3.752683      -1.322774 -0.701206 -4.135256 -1.035940   \n",
            "1 -0.276643       0.680345       0.233505 -0.701206 -0.489169  1.487101   \n",
            "2  0.566871      -1.265862      -0.090720  0.013448 -0.424522 -0.948939   \n",
            "3  1.254179      -1.049617      -1.322774 -0.701206 -1.303720  2.792122   \n",
            "4  0.410665       0.572222       1.076490  2.484601  1.838121  1.139095   \n",
            "\n",
            "   BMI_category_Normal  BMI_category_Obese  BMI_category_Overweight  \\\n",
            "0                  0.0                 0.0                      0.0   \n",
            "1                  0.0                 0.0                      1.0   \n",
            "2                  0.0                 0.0                      1.0   \n",
            "3                  1.0                 0.0                      0.0   \n",
            "4                  0.0                 1.0                      0.0   \n",
            "\n",
            "   BMI_category_Underweight  \n",
            "0                       1.0  \n",
            "1                       0.0  \n",
            "2                       0.0  \n",
            "3                       0.0  \n",
            "4                       0.0  \n"
          ]
        }
      ],
      "source": [
        "numeric_features = ['Glucose', 'BloodPressure', 'SkinThickness', 'Insulin', 'BMI', 'Age']\n",
        "categorical_features = ['BMI_category']\n",
        "\n",
        "scaler = StandardScaler()\n",
        "train_df[numeric_features] = scaler.fit_transform(train_df[numeric_features])\n",
        "val_df[numeric_features] = scaler.transform(val_df[numeric_features])\n",
        "\n",
        "\n",
        "encoder = OneHotEncoder(sparse_output=False)\n",
        "train_encoded = encoder.fit_transform(train_df[categorical_features])\n",
        "val_encoded = encoder.transform(val_df[categorical_features])\n",
        "\n",
        "train_encoded_df = pd.DataFrame(train_encoded, columns=encoder.get_feature_names_out(categorical_features))\n",
        "val_encoded_df = pd.DataFrame(val_encoded, columns=encoder.get_feature_names_out(categorical_features))\n",
        "\n",
        "X_train = pd.concat([train_df[numeric_features].reset_index(drop=True), train_encoded_df], axis=1)\n",
        "X_val = pd.concat([val_df[numeric_features].reset_index(drop=True), val_encoded_df], axis=1)\n",
        "\n",
        "y_train = train_df['Outcome']\n",
        "y_val = val_df['Outcome']\n",
        "\n",
        "print(X_train.head())"
      ]
    },
    {
      "cell_type": "code",
      "execution_count": 47,
      "metadata": {
        "colab": {
          "base_uri": "https://localhost:8080/"
        },
        "id": "7keJEst38iyy",
        "outputId": "ec6cc6a4-f064-49c1-dcaf-c88f3ac70e44"
      },
      "outputs": [
        {
          "name": "stdout",
          "output_type": "stream",
          "text": [
            "k=3, F1 Score: 0.5454545454545454\n",
            "k=5, F1 Score: 0.6037735849056604\n",
            "k=7, F1 Score: 0.6605504587155964\n",
            "Best K: 7, Best F1 Score: 0.6605504587155964\n"
          ]
        }
      ],
      "source": [
        "best_knn_f1, best_k = 0, 0\n",
        "for k in [3, 5, 7]:\n",
        "    knn = KNeighborsClassifier(n_neighbors=k)\n",
        "    knn.fit(X_train, y_train)\n",
        "    preds = knn.predict(X_val)\n",
        "    f1 = f1_score(y_val, preds)\n",
        "    print(f\"k={k}, F1 Score: {f1}\")\n",
        "    if f1 > best_knn_f1:\n",
        "        best_knn_f1, best_k = f1, k\n",
        "\n",
        "print(f\"Best K: {best_k}, Best F1 Score: {best_knn_f1}\")\n"
      ]
    },
    {
      "cell_type": "code",
      "execution_count": 48,
      "metadata": {
        "colab": {
          "base_uri": "https://localhost:8080/"
        },
        "id": "PYoPOuih834n",
        "outputId": "030cf932-b6ce-46af-e2f8-488aae028b7a"
      },
      "outputs": [
        {
          "name": "stdout",
          "output_type": "stream",
          "text": [
            "max_depth=3, F1 Score: 0.6476190476190476\n",
            "max_depth=5, F1 Score: 0.6379310344827587\n",
            "max_depth=7, F1 Score: 0.5535714285714286\n",
            "Best max_depth: 3, Best F1 Score: 0.6476190476190476\n"
          ]
        }
      ],
      "source": [
        "best_dt_f1, best_depth = 0, 0\n",
        "for depth in [3, 5, 7]:\n",
        "    dt = DecisionTreeClassifier(max_depth=depth, random_state=42)\n",
        "    dt.fit(X_train, y_train)\n",
        "    preds = dt.predict(X_val)\n",
        "    f1 = f1_score(y_val, preds)\n",
        "    print(f\"max_depth={depth}, F1 Score: {f1}\")\n",
        "    if f1 > best_dt_f1:\n",
        "        best_dt_f1, best_depth = f1, depth\n",
        "\n",
        "print(f\"Best max_depth: {best_depth}, Best F1 Score: {best_dt_f1}\")\n"
      ]
    },
    {
      "cell_type": "code",
      "execution_count": 49,
      "metadata": {
        "colab": {
          "base_uri": "https://localhost:8080/"
        },
        "id": "UxDw9sTn8_gk",
        "outputId": "2a806002-7cbb-49bd-c208-e3039bdb2e7f"
      },
      "outputs": [
        {
          "name": "stdout",
          "output_type": "stream",
          "text": [
            "Sample 1 Prediction: [0]\n",
            "Sample 2 Prediction: [0]\n",
            "Sample 3 Prediction: [0]\n",
            "Sample 4 Prediction: [0]\n",
            "Sample 5 Prediction: [0]\n"
          ]
        }
      ],
      "source": [
        "best_model = knn if best_knn_f1 > best_dt_f1 else dt\n",
        "joblib.dump(scaler, 'models/scaler.pkl')\n",
        "joblib.dump(encoder, 'models/encoder.pkl')\n",
        "joblib.dump(best_model, 'models/best_model.pkl')\n",
        "\n",
        "def inference(sample):\n",
        "    scaler = joblib.load('models/scaler.pkl')\n",
        "    encoder = joblib.load('models/encoder.pkl')\n",
        "    model = joblib.load('models/best_model.pkl')\n",
        "\n",
        "    sample_numeric = scaler.transform(sample[numeric_features])\n",
        "\n",
        "    sample_categorical = encoder.transform(sample[categorical_features])\n",
        "\n",
        "    sample_transformed = pd.concat([pd.DataFrame(sample_numeric), pd.DataFrame(sample_categorical)], axis=1)\n",
        "\n",
        "    prediction = model.predict(sample_transformed)\n",
        "    return prediction\n",
        "\n",
        "for i in range(5):\n",
        "    sample = val_df.iloc[[i]]\n",
        "    print(f\"Sample {i + 1} Prediction: {inference(sample)}\")"
      ]
    }
  ],
  "metadata": {
    "colab": {
      "provenance": []
    },
    "kernelspec": {
      "display_name": "Python 3",
      "name": "python3"
    },
    "language_info": {
      "codemirror_mode": {
        "name": "ipython",
        "version": 3
      },
      "file_extension": ".py",
      "mimetype": "text/x-python",
      "name": "python",
      "nbconvert_exporter": "python",
      "pygments_lexer": "ipython3",
      "version": "3.12.9"
    }
  },
  "nbformat": 4,
  "nbformat_minor": 0
}
